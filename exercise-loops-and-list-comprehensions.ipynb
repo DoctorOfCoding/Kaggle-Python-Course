{
 "cells": [
  {
   "cell_type": "markdown",
   "id": "959d6c8d",
   "metadata": {
    "papermill": {
     "duration": 0.004844,
     "end_time": "2025-06-07T11:08:07.216737",
     "exception": false,
     "start_time": "2025-06-07T11:08:07.211893",
     "status": "completed"
    },
    "tags": []
   },
   "source": [
    "**This notebook is an exercise in the [Python](https://www.kaggle.com/learn/python) course.  You can reference the tutorial at [this link](https://www.kaggle.com/colinmorris/loops-and-list-comprehensions).**\n",
    "\n",
    "---\n"
   ]
  },
  {
   "cell_type": "markdown",
   "id": "9ba7a991",
   "metadata": {
    "papermill": {
     "duration": 0.003571,
     "end_time": "2025-06-07T11:08:07.224435",
     "exception": false,
     "start_time": "2025-06-07T11:08:07.220864",
     "status": "completed"
    },
    "tags": []
   },
   "source": [
    "With all you've learned, you can start writing much more interesting programs. See if you can solve the problems below.\n",
    "\n",
    "As always, run the setup code below before working on the questions."
   ]
  },
  {
   "cell_type": "code",
   "execution_count": 1,
   "id": "9240224c",
   "metadata": {
    "execution": {
     "iopub.execute_input": "2025-06-07T11:08:07.234060Z",
     "iopub.status.busy": "2025-06-07T11:08:07.233100Z",
     "iopub.status.idle": "2025-06-07T11:08:09.377178Z",
     "shell.execute_reply": "2025-06-07T11:08:09.375697Z"
    },
    "papermill": {
     "duration": 2.15093,
     "end_time": "2025-06-07T11:08:09.379259",
     "exception": false,
     "start_time": "2025-06-07T11:08:07.228329",
     "status": "completed"
    },
    "tags": []
   },
   "outputs": [
    {
     "name": "stdout",
     "output_type": "stream",
     "text": [
      "Setup complete.\n"
     ]
    }
   ],
   "source": [
    "from learntools.core import binder; binder.bind(globals())\n",
    "from learntools.python.ex5 import *\n",
    "print('Setup complete.')"
   ]
  },
  {
   "cell_type": "markdown",
   "id": "78a2193b",
   "metadata": {
    "papermill": {
     "duration": 0.004462,
     "end_time": "2025-06-07T11:08:09.389502",
     "exception": false,
     "start_time": "2025-06-07T11:08:09.385040",
     "status": "completed"
    },
    "tags": []
   },
   "source": [
    "# 1.\n",
    "\n",
    "Have you ever felt debugging involved a bit of luck? The following program has a bug. Try to identify the bug and fix it."
   ]
  },
  {
   "cell_type": "code",
   "execution_count": 2,
   "id": "99622888",
   "metadata": {
    "execution": {
     "iopub.execute_input": "2025-06-07T11:08:09.401511Z",
     "iopub.status.busy": "2025-06-07T11:08:09.401091Z",
     "iopub.status.idle": "2025-06-07T11:08:09.406282Z",
     "shell.execute_reply": "2025-06-07T11:08:09.405389Z"
    },
    "papermill": {
     "duration": 0.013211,
     "end_time": "2025-06-07T11:08:09.407608",
     "exception": false,
     "start_time": "2025-06-07T11:08:09.394397",
     "status": "completed"
    },
    "tags": []
   },
   "outputs": [],
   "source": [
    "def has_lucky_number(nums):\n",
    "    \"\"\"Return whether the given list of numbers is lucky. A lucky list contains\n",
    "    at least one number divisible by 7.\n",
    "    \"\"\"\n",
    "    for num in nums:\n",
    "        if num % 7 == 0:\n",
    "            return True  # Return True immediately if a lucky number is found\n",
    "    return False  # If no number is lucky, return False after checking all\n"
   ]
  },
  {
   "cell_type": "markdown",
   "id": "4d7d8879",
   "metadata": {
    "papermill": {
     "duration": 0.00362,
     "end_time": "2025-06-07T11:08:09.415399",
     "exception": false,
     "start_time": "2025-06-07T11:08:09.411779",
     "status": "completed"
    },
    "tags": []
   },
   "source": [
    "Try to identify the bug and fix it in the cell below:"
   ]
  },
  {
   "cell_type": "code",
   "execution_count": 3,
   "id": "ce71e9c3",
   "metadata": {
    "execution": {
     "iopub.execute_input": "2025-06-07T11:08:09.424594Z",
     "iopub.status.busy": "2025-06-07T11:08:09.424307Z",
     "iopub.status.idle": "2025-06-07T11:08:09.433657Z",
     "shell.execute_reply": "2025-06-07T11:08:09.432659Z"
    },
    "papermill": {
     "duration": 0.015934,
     "end_time": "2025-06-07T11:08:09.435179",
     "exception": false,
     "start_time": "2025-06-07T11:08:09.419245",
     "status": "completed"
    },
    "tags": []
   },
   "outputs": [
    {
     "data": {
      "application/javascript": [
       "parent.postMessage({\"jupyterEvent\": \"custom.exercise_interaction\", \"data\": {\"outcomeType\": 1, \"valueTowardsCompletion\": 0.25, \"interactionType\": 1, \"questionType\": 2, \"questionId\": \"1_EarlyExitDebugging\", \"learnToolsVersion\": \"0.3.5\", \"failureMessage\": \"\", \"exceptionClass\": \"\", \"trace\": \"\"}}, \"*\")"
      ],
      "text/plain": [
       "<IPython.core.display.Javascript object>"
      ]
     },
     "metadata": {},
     "output_type": "display_data"
    },
    {
     "data": {
      "text/markdown": [
       "<span style=\"color:#33cc33\">Correct:</span> \n",
       "\n",
       "Remember that `return` causes a function to exit immediately. So our original implementation always ran for just one iteration. We can only return `False` if we've looked at every element of the list (and confirmed that none of them are lucky). Though we can return early if the answer is `True`:\n",
       "\n",
       "```python\n",
       "def has_lucky_number(nums):\n",
       "    for num in nums:\n",
       "        if num % 7 == 0:\n",
       "            return True\n",
       "    # We've exhausted the list without finding a lucky number\n",
       "    return False\n",
       "```\n",
       "\n",
       "Here's a one-line version using a list comprehension with Python's `any` function (you can read about what it does by calling `help(any)`):\n",
       "\n",
       "```python\n",
       "def has_lucky_number(nums):\n",
       "    return any([num % 7 == 0 for num in nums])\n",
       "```\n"
      ],
      "text/plain": [
       "Correct: \n",
       "\n",
       "Remember that `return` causes a function to exit immediately. So our original implementation always ran for just one iteration. We can only return `False` if we've looked at every element of the list (and confirmed that none of them are lucky). Though we can return early if the answer is `True`:\n",
       "\n",
       "```python\n",
       "def has_lucky_number(nums):\n",
       "    for num in nums:\n",
       "        if num % 7 == 0:\n",
       "            return True\n",
       "    # We've exhausted the list without finding a lucky number\n",
       "    return False\n",
       "```\n",
       "\n",
       "Here's a one-line version using a list comprehension with Python's `any` function (you can read about what it does by calling `help(any)`):\n",
       "\n",
       "```python\n",
       "def has_lucky_number(nums):\n",
       "    return any([num % 7 == 0 for num in nums])\n",
       "```"
      ]
     },
     "metadata": {},
     "output_type": "display_data"
    }
   ],
   "source": [
    "def has_lucky_number(nums):\n",
    "    \"\"\"Return whether the given list of numbers is lucky. A lucky list contains\n",
    "    at least one number divisible by 7.\n",
    "    \"\"\"\n",
    "    for num in nums:\n",
    "        if num % 7 == 0:\n",
    "            return True  # Return True immediately if a lucky number is found\n",
    "    return False  # After checking all numbers, return False if no lucky number is found\n",
    "\n",
    "\n",
    "# Check your answer\n",
    "q1.check()"
   ]
  },
  {
   "cell_type": "code",
   "execution_count": 4,
   "id": "defb8277",
   "metadata": {
    "execution": {
     "iopub.execute_input": "2025-06-07T11:08:09.445182Z",
     "iopub.status.busy": "2025-06-07T11:08:09.444804Z",
     "iopub.status.idle": "2025-06-07T11:08:09.448517Z",
     "shell.execute_reply": "2025-06-07T11:08:09.447867Z"
    },
    "papermill": {
     "duration": 0.010221,
     "end_time": "2025-06-07T11:08:09.449975",
     "exception": false,
     "start_time": "2025-06-07T11:08:09.439754",
     "status": "completed"
    },
    "tags": []
   },
   "outputs": [],
   "source": [
    "#q1.hint()\n",
    "#q1.solution()"
   ]
  },
  {
   "cell_type": "markdown",
   "id": "6cdc1d66",
   "metadata": {
    "papermill": {
     "duration": 0.003987,
     "end_time": "2025-06-07T11:08:09.458263",
     "exception": false,
     "start_time": "2025-06-07T11:08:09.454276",
     "status": "completed"
    },
    "tags": []
   },
   "source": [
    "# 2.\n",
    "Look at the Python expression below. What do you think we'll get when we run it? When you've made your prediction, uncomment the code and run the cell to see if you were right."
   ]
  },
  {
   "cell_type": "code",
   "execution_count": 5,
   "id": "c4a8370f",
   "metadata": {
    "execution": {
     "iopub.execute_input": "2025-06-07T11:08:09.468014Z",
     "iopub.status.busy": "2025-06-07T11:08:09.467532Z",
     "iopub.status.idle": "2025-06-07T11:08:09.472278Z",
     "shell.execute_reply": "2025-06-07T11:08:09.471132Z"
    },
    "papermill": {
     "duration": 0.011503,
     "end_time": "2025-06-07T11:08:09.473866",
     "exception": false,
     "start_time": "2025-06-07T11:08:09.462363",
     "status": "completed"
    },
    "tags": []
   },
   "outputs": [],
   "source": [
    "# [1, 2, 3, 4] > 2"
   ]
  },
  {
   "cell_type": "markdown",
   "id": "50049041",
   "metadata": {
    "papermill": {
     "duration": 0.004014,
     "end_time": "2025-06-07T11:08:09.482117",
     "exception": false,
     "start_time": "2025-06-07T11:08:09.478103",
     "status": "completed"
    },
    "tags": []
   },
   "source": [
    "R and Python have some libraries (like numpy and pandas) compare each element of the list to 2 (i.e. do an 'element-wise' comparison) and give us a list of booleans like `[False, False, True, True]`. \n",
    "\n",
    "Implement a function that reproduces this behaviour, returning a list of booleans corresponding to whether the corresponding element is greater than n."
   ]
  },
  {
   "cell_type": "code",
   "execution_count": 6,
   "id": "dfa4a16e",
   "metadata": {
    "execution": {
     "iopub.execute_input": "2025-06-07T11:08:09.492173Z",
     "iopub.status.busy": "2025-06-07T11:08:09.491735Z",
     "iopub.status.idle": "2025-06-07T11:08:09.501013Z",
     "shell.execute_reply": "2025-06-07T11:08:09.499973Z"
    },
    "papermill": {
     "duration": 0.016503,
     "end_time": "2025-06-07T11:08:09.502705",
     "exception": false,
     "start_time": "2025-06-07T11:08:09.486202",
     "status": "completed"
    },
    "tags": []
   },
   "outputs": [
    {
     "data": {
      "application/javascript": [
       "parent.postMessage({\"jupyterEvent\": \"custom.exercise_interaction\", \"data\": {\"outcomeType\": 1, \"valueTowardsCompletion\": 0.25, \"interactionType\": 1, \"questionType\": 2, \"questionId\": \"2_ElementWiseComparison\", \"learnToolsVersion\": \"0.3.5\", \"failureMessage\": \"\", \"exceptionClass\": \"\", \"trace\": \"\"}}, \"*\")"
      ],
      "text/plain": [
       "<IPython.core.display.Javascript object>"
      ]
     },
     "metadata": {},
     "output_type": "display_data"
    },
    {
     "data": {
      "text/markdown": [
       "<span style=\"color:#33cc33\">Correct:</span> \n",
       "\n",
       "Here's one solution:\n",
       "```python\n",
       "def elementwise_greater_than(L, thresh):\n",
       "    res = []\n",
       "    for ele in L:\n",
       "        res.append(ele > thresh)\n",
       "    return res\n",
       "```\n",
       "\n",
       "And here's the list comprehension version:\n",
       "```python\n",
       "def elementwise_greater_than(L, thresh):\n",
       "    return [ele > thresh for ele in L]\n",
       "```\n"
      ],
      "text/plain": [
       "Correct: \n",
       "\n",
       "Here's one solution:\n",
       "```python\n",
       "def elementwise_greater_than(L, thresh):\n",
       "    res = []\n",
       "    for ele in L:\n",
       "        res.append(ele > thresh)\n",
       "    return res\n",
       "```\n",
       "\n",
       "And here's the list comprehension version:\n",
       "```python\n",
       "def elementwise_greater_than(L, thresh):\n",
       "    return [ele > thresh for ele in L]\n",
       "```"
      ]
     },
     "metadata": {},
     "output_type": "display_data"
    }
   ],
   "source": [
    "def elementwise_greater_than(L, thresh):\n",
    "    \"\"\"Return a list with the same length as L, where the value at index i is \n",
    "    True if L[i] is greater than thresh, and False otherwise.\n",
    "    \"\"\"\n",
    "    return [x > thresh for x in L]  # List comprehension to check each element\n",
    "\n",
    "# Check your answer\n",
    "q2.check()"
   ]
  },
  {
   "cell_type": "code",
   "execution_count": 7,
   "id": "b3c5b739",
   "metadata": {
    "execution": {
     "iopub.execute_input": "2025-06-07T11:08:09.516106Z",
     "iopub.status.busy": "2025-06-07T11:08:09.515659Z",
     "iopub.status.idle": "2025-06-07T11:08:09.520239Z",
     "shell.execute_reply": "2025-06-07T11:08:09.519079Z"
    },
    "papermill": {
     "duration": 0.012545,
     "end_time": "2025-06-07T11:08:09.522003",
     "exception": false,
     "start_time": "2025-06-07T11:08:09.509458",
     "status": "completed"
    },
    "tags": []
   },
   "outputs": [],
   "source": [
    "#q2.solution()"
   ]
  },
  {
   "cell_type": "markdown",
   "id": "2fd1dc75",
   "metadata": {
    "papermill": {
     "duration": 0.006468,
     "end_time": "2025-06-07T11:08:09.535460",
     "exception": false,
     "start_time": "2025-06-07T11:08:09.528992",
     "status": "completed"
    },
    "tags": []
   },
   "source": [
    "# 3.\n",
    "\n",
    "Complete the body of the function below according to its docstring."
   ]
  },
  {
   "cell_type": "code",
   "execution_count": 8,
   "id": "6fa26115",
   "metadata": {
    "execution": {
     "iopub.execute_input": "2025-06-07T11:08:09.549751Z",
     "iopub.status.busy": "2025-06-07T11:08:09.549194Z",
     "iopub.status.idle": "2025-06-07T11:08:09.558856Z",
     "shell.execute_reply": "2025-06-07T11:08:09.557591Z"
    },
    "papermill": {
     "duration": 0.017738,
     "end_time": "2025-06-07T11:08:09.561086",
     "exception": false,
     "start_time": "2025-06-07T11:08:09.543348",
     "status": "completed"
    },
    "tags": []
   },
   "outputs": [
    {
     "data": {
      "application/javascript": [
       "parent.postMessage({\"jupyterEvent\": \"custom.exercise_interaction\", \"data\": {\"outcomeType\": 1, \"valueTowardsCompletion\": 0.25, \"interactionType\": 1, \"questionType\": 2, \"questionId\": \"3_BoringMenu\", \"learnToolsVersion\": \"0.3.5\", \"failureMessage\": \"\", \"exceptionClass\": \"\", \"trace\": \"\"}}, \"*\")"
      ],
      "text/plain": [
       "<IPython.core.display.Javascript object>"
      ]
     },
     "metadata": {},
     "output_type": "display_data"
    },
    {
     "data": {
      "text/markdown": [
       "<span style=\"color:#33cc33\">Correct:</span> \n",
       "\n",
       "\n",
       "\n",
       "```python\n",
       "def menu_is_boring(meals):\n",
       "    # Iterate over all indices of the list, except the last one\n",
       "    for i in range(len(meals)-1):\n",
       "        if meals[i] == meals[i+1]:\n",
       "            return True\n",
       "    return False\n",
       "```\n",
       "\n",
       "The key to our solution is the call to `range`. `range(len(meals))` would give us all the indices of `meals`. If we had used that range, the last iteration of the loop would be comparing the last element to the element after it, which is... `IndexError`! `range(len(meals)-1)` gives us all the indices except the index of the last element.\n",
       "\n",
       "But don't we need to check if `meals` is empty? Turns out that `range(0) == range(-1)` - they're both empty. So if `meals` has length 0 or 1, we just won't do any iterations of our for loop.\n"
      ],
      "text/plain": [
       "Correct: \n",
       "\n",
       "\n",
       "\n",
       "```python\n",
       "def menu_is_boring(meals):\n",
       "    # Iterate over all indices of the list, except the last one\n",
       "    for i in range(len(meals)-1):\n",
       "        if meals[i] == meals[i+1]:\n",
       "            return True\n",
       "    return False\n",
       "```\n",
       "\n",
       "The key to our solution is the call to `range`. `range(len(meals))` would give us all the indices of `meals`. If we had used that range, the last iteration of the loop would be comparing the last element to the element after it, which is... `IndexError`! `range(len(meals)-1)` gives us all the indices except the index of the last element.\n",
       "\n",
       "But don't we need to check if `meals` is empty? Turns out that `range(0) == range(-1)` - they're both empty. So if `meals` has length 0 or 1, we just won't do any iterations of our for loop."
      ]
     },
     "metadata": {},
     "output_type": "display_data"
    }
   ],
   "source": [
    "def menu_is_boring(meals):\n",
    "    \"\"\"Given a list of meals served over some period of time, return True if the\n",
    "    same meal has ever been served two days in a row, and False otherwise.\n",
    "    \"\"\"\n",
    "    for i in range(len(meals) - 1):  # Iterate through the list, comparing consecutive days\n",
    "        if meals[i] == meals[i + 1]:  # Check if the same meal appears on consecutive days\n",
    "            return True  # If found, return True immediately\n",
    "    return False  # If no consecutive repeats are found, return False\n",
    "\n",
    "\n",
    "# Check your answer\n",
    "q3.check()"
   ]
  },
  {
   "cell_type": "code",
   "execution_count": 9,
   "id": "20561558",
   "metadata": {
    "execution": {
     "iopub.execute_input": "2025-06-07T11:08:09.578922Z",
     "iopub.status.busy": "2025-06-07T11:08:09.578280Z",
     "iopub.status.idle": "2025-06-07T11:08:09.582975Z",
     "shell.execute_reply": "2025-06-07T11:08:09.582058Z"
    },
    "papermill": {
     "duration": 0.015533,
     "end_time": "2025-06-07T11:08:09.584459",
     "exception": false,
     "start_time": "2025-06-07T11:08:09.568926",
     "status": "completed"
    },
    "tags": []
   },
   "outputs": [],
   "source": [
    "#q3.hint()\n",
    "#q3.solution()"
   ]
  },
  {
   "cell_type": "markdown",
   "id": "6a096705",
   "metadata": {
    "papermill": {
     "duration": 0.004361,
     "end_time": "2025-06-07T11:08:09.593988",
     "exception": false,
     "start_time": "2025-06-07T11:08:09.589627",
     "status": "completed"
    },
    "tags": []
   },
   "source": [
    "# 4. <span title=\"A bit spicy\" style=\"color: darkgreen \">🌶️</span>\n",
    "\n",
    "Next to the Blackjack table, the Python Challenge Casino has a slot machine. You can get a result from the slot machine by calling `play_slot_machine()`. The number it returns is your winnings in dollars. Usually it returns 0.  But sometimes you'll get lucky and get a big payday. Try running it below:"
   ]
  },
  {
   "cell_type": "code",
   "execution_count": 10,
   "id": "b495b7dd",
   "metadata": {
    "execution": {
     "iopub.execute_input": "2025-06-07T11:08:09.609486Z",
     "iopub.status.busy": "2025-06-07T11:08:09.608565Z",
     "iopub.status.idle": "2025-06-07T11:08:09.615354Z",
     "shell.execute_reply": "2025-06-07T11:08:09.614545Z"
    },
    "papermill": {
     "duration": 0.016047,
     "end_time": "2025-06-07T11:08:09.617124",
     "exception": false,
     "start_time": "2025-06-07T11:08:09.601077",
     "status": "completed"
    },
    "tags": []
   },
   "outputs": [
    {
     "data": {
      "text/plain": [
       "1.5"
      ]
     },
     "execution_count": 10,
     "metadata": {},
     "output_type": "execute_result"
    }
   ],
   "source": [
    "play_slot_machine()"
   ]
  },
  {
   "cell_type": "markdown",
   "id": "267fecc1",
   "metadata": {
    "papermill": {
     "duration": 0.004532,
     "end_time": "2025-06-07T11:08:09.626757",
     "exception": false,
     "start_time": "2025-06-07T11:08:09.622225",
     "status": "completed"
    },
    "tags": []
   },
   "source": [
    "By the way, did we mention that each play costs $1? Don't worry, we'll send you the bill later.\n",
    "\n",
    "On average, how much money can you expect to gain (or lose) every time you play the machine?  The casino keeps it a secret, but you can estimate the average value of each pull using a technique called the **Monte Carlo method**. To estimate the average outcome, we simulate the scenario many times, and return the average result.\n",
    "\n",
    "Complete the following function to calculate the average value per play of the slot machine."
   ]
  },
  {
   "cell_type": "code",
   "execution_count": 11,
   "id": "48da3bed",
   "metadata": {
    "execution": {
     "iopub.execute_input": "2025-06-07T11:08:09.637286Z",
     "iopub.status.busy": "2025-06-07T11:08:09.636994Z",
     "iopub.status.idle": "2025-06-07T11:08:09.642535Z",
     "shell.execute_reply": "2025-06-07T11:08:09.641547Z"
    },
    "papermill": {
     "duration": 0.012944,
     "end_time": "2025-06-07T11:08:09.644360",
     "exception": false,
     "start_time": "2025-06-07T11:08:09.631416",
     "status": "completed"
    },
    "tags": []
   },
   "outputs": [],
   "source": [
    "import random\n",
    "\n",
    "def play_slot_machine():\n",
    "    \"\"\"Simulate a slot machine play. Returns the winnings (could be 0 or a higher amount).\"\"\"\n",
    "    # Example winnings distribution: mostly 0, sometimes big payouts\n",
    "    winnings = [0] * 95 + [5, 10, 50, 100, 500]  # 95% chance of 0, 5% chance of winnings\n",
    "    return random.choice(winnings)\n",
    "\n",
    "def estimate_average_slot_payout(n_runs):\n",
    "    \"\"\"Run the slot machine n_runs times and return the average net profit per run.\"\"\"\n",
    "    total_winnings = sum(play_slot_machine() for _ in range(n_runs))  # Sum of all winnings\n",
    "    return total_winnings / n_runs - 1  # Subtract $1 cost per play\n"
   ]
  },
  {
   "cell_type": "markdown",
   "id": "93de4f45",
   "metadata": {
    "papermill": {
     "duration": 0.004539,
     "end_time": "2025-06-07T11:08:09.654183",
     "exception": false,
     "start_time": "2025-06-07T11:08:09.649644",
     "status": "completed"
    },
    "tags": []
   },
   "source": [
    "When you think you know the expected value per spin, run the code cell below to view the solution and get credit for answering the question."
   ]
  },
  {
   "cell_type": "code",
   "execution_count": 12,
   "id": "1be99fc0",
   "metadata": {
    "execution": {
     "iopub.execute_input": "2025-06-07T11:08:09.665565Z",
     "iopub.status.busy": "2025-06-07T11:08:09.665227Z",
     "iopub.status.idle": "2025-06-07T11:08:09.672916Z",
     "shell.execute_reply": "2025-06-07T11:08:09.671964Z"
    },
    "papermill": {
     "duration": 0.015074,
     "end_time": "2025-06-07T11:08:09.674396",
     "exception": false,
     "start_time": "2025-06-07T11:08:09.659322",
     "status": "completed"
    },
    "tags": []
   },
   "outputs": [
    {
     "data": {
      "application/javascript": [
       "parent.postMessage({\"jupyterEvent\": \"custom.exercise_interaction\", \"data\": {\"interactionType\": 3, \"questionType\": 4, \"questionId\": \"4_ExpectedSlotsPayout\", \"learnToolsVersion\": \"0.3.5\", \"valueTowardsCompletion\": 0.0, \"failureMessage\": \"\", \"exceptionClass\": \"\", \"trace\": \"\", \"outcomeType\": 4}}, \"*\")"
      ],
      "text/plain": [
       "<IPython.core.display.Javascript object>"
      ]
     },
     "metadata": {},
     "output_type": "display_data"
    },
    {
     "data": {
      "text/markdown": [
       "<span style=\"color:#33cc99\">Solution:</span> \n",
       "    \n",
       "The exact expected value of one pull of the slot machine is 0.025 - i.e. a little more than 2 cents.  See?  Not every game in the Python Challenge Casino is rigged against the player!\n",
       "\n",
       "In order to get this answer, you'll need to implement the `estimate_average_slot_payout(n_runs)` function to simulate pulling the slot machine `n_runs` times.  It should return the payout averaged over those `n_runs`.\n",
       "\n",
       "Then, once the function is defined, in order to estimate the average slot payout, we need only call the function.\n",
       "\n",
       "Because of the high variance of the outcome (there are some very rare high payout results that significantly affect the average) you might need to run your function with a very high value of `n_runs` to get a stable answer close to the true expectation.  For instance, you might use a value for `n_runs` of 1000000.\n",
       "\n",
       "Here's an example for how the function could look:\n",
       "```python\n",
       "def estimate_average_slot_payout(n_runs):\n",
       "    # Play slot machine n_runs times, calculate payout of each\n",
       "    payouts = [play_slot_machine()-1 for i in range(n_runs)]\n",
       "    # Calculate the average value\n",
       "    avg_payout = sum(payouts) / n_runs\n",
       "    return avg_payout\n",
       "    \n",
       "estimate_average_slot_payout(10000000)\n",
       "\n",
       "```\n",
       "\n",
       "This should return an answer close to 0.025!\n",
       "            \n"
      ],
      "text/plain": [
       "Solution: \n",
       "    \n",
       "The exact expected value of one pull of the slot machine is 0.025 - i.e. a little more than 2 cents.  See?  Not every game in the Python Challenge Casino is rigged against the player!\n",
       "\n",
       "In order to get this answer, you'll need to implement the `estimate_average_slot_payout(n_runs)` function to simulate pulling the slot machine `n_runs` times.  It should return the payout averaged over those `n_runs`.\n",
       "\n",
       "Then, once the function is defined, in order to estimate the average slot payout, we need only call the function.\n",
       "\n",
       "Because of the high variance of the outcome (there are some very rare high payout results that significantly affect the average) you might need to run your function with a very high value of `n_runs` to get a stable answer close to the true expectation.  For instance, you might use a value for `n_runs` of 1000000.\n",
       "\n",
       "Here's an example for how the function could look:\n",
       "```python\n",
       "def estimate_average_slot_payout(n_runs):\n",
       "    # Play slot machine n_runs times, calculate payout of each\n",
       "    payouts = [play_slot_machine()-1 for i in range(n_runs)]\n",
       "    # Calculate the average value\n",
       "    avg_payout = sum(payouts) / n_runs\n",
       "    return avg_payout\n",
       "    \n",
       "estimate_average_slot_payout(10000000)\n",
       "\n",
       "```\n",
       "\n",
       "This should return an answer close to 0.025!\n",
       "            "
      ]
     },
     "metadata": {},
     "output_type": "display_data"
    }
   ],
   "source": [
    "# Check your answer (Run this code cell to receive credit!)\n",
    "q4.solution()"
   ]
  },
  {
   "cell_type": "markdown",
   "id": "2ee96de0",
   "metadata": {
    "papermill": {
     "duration": 0.004649,
     "end_time": "2025-06-07T11:08:09.684332",
     "exception": false,
     "start_time": "2025-06-07T11:08:09.679683",
     "status": "completed"
    },
    "tags": []
   },
   "source": [
    "# Keep Going\n",
    "\n",
    "Many programmers report that dictionaries are their favorite data structure. You'll get to **[learn about them](https://www.kaggle.com/colinmorris/strings-and-dictionaries)** (as well as strings) in the next lesson."
   ]
  },
  {
   "cell_type": "markdown",
   "id": "7f3509fc",
   "metadata": {
    "papermill": {
     "duration": 0.00471,
     "end_time": "2025-06-07T11:08:09.693915",
     "exception": false,
     "start_time": "2025-06-07T11:08:09.689205",
     "status": "completed"
    },
    "tags": []
   },
   "source": [
    "---\n",
    "\n",
    "\n",
    "\n",
    "\n",
    "*Have questions or comments? Visit the [course discussion forum](https://www.kaggle.com/learn/python/discussion) to chat with other learners.*"
   ]
  }
 ],
 "metadata": {
  "kaggle": {
   "accelerator": "none",
   "dataSources": [],
   "isGpuEnabled": false,
   "isInternetEnabled": false,
   "language": "python",
   "sourceType": "notebook"
  },
  "kernelspec": {
   "display_name": "Python 3",
   "language": "python",
   "name": "python3"
  },
  "language_info": {
   "codemirror_mode": {
    "name": "ipython",
    "version": 3
   },
   "file_extension": ".py",
   "mimetype": "text/x-python",
   "name": "python",
   "nbconvert_exporter": "python",
   "pygments_lexer": "ipython3",
   "version": "3.11.11"
  },
  "learntools_metadata": {
   "lesson_index": 4,
   "type": "exercise"
  },
  "papermill": {
   "default_parameters": {},
   "duration": 8.113354,
   "end_time": "2025-06-07T11:08:10.219177",
   "environment_variables": {},
   "exception": null,
   "input_path": "__notebook__.ipynb",
   "output_path": "__notebook__.ipynb",
   "parameters": {},
   "start_time": "2025-06-07T11:08:02.105823",
   "version": "2.6.0"
  }
 },
 "nbformat": 4,
 "nbformat_minor": 5
}
